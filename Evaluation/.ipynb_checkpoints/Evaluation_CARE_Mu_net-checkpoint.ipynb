{
 "cells": [
  {
   "cell_type": "code",
   "execution_count": 1,
   "metadata": {},
   "outputs": [
    {
     "name": "stdout",
     "output_type": "stream",
     "text": [
      "Not enough GPU hardware devices available\n"
     ]
    }
   ],
   "source": [
    "import sys\n",
    "import os\n",
    "# sys.path.insert(1, 'C:/Users/Johan/Documents/FAU_Masterarbeit/Implementation')\n",
    "sys.path.insert(1, 'C:/Users/jo77pihe/Documents/MasterThesis_OfSpinesAndDendrites')\n",
    "from deconv import REGISTRY\n",
    "# import seaborn\n",
    "import matplotlib.pyplot as plt\n",
    "# import pandas as pd\n",
    "import pickle\n",
    "import numpy as np\n",
    "from data_augmentation import DataAugmenter\n",
    "import yaml\n",
    "from imagequalitymetrics import ImageQualityMetrics\n"
   ]
  },
  {
   "cell_type": "code",
   "execution_count": 2,
   "metadata": {},
   "outputs": [],
   "source": [
    "with open('..\\\\config.yaml', \"r\") as stream:\n",
    "    config=yaml.safe_load(stream)"
   ]
  },
  {
   "cell_type": "code",
   "execution_count": 13,
   "metadata": {},
   "outputs": [
    {
     "data": {
      "text/plain": [
       "dict_keys(['data_path', 'source_folder', 'target_folder', 'result_path', 'psf', 'train', 'z_shape', 'xy_shape', 'n_patches', 'data_augmented_path', 'validation_split', 'epochs', 'batch_size', 'train_steps_p_epoch'])"
      ]
     },
     "execution_count": 13,
     "metadata": {},
     "output_type": "execute_result"
    }
   ],
   "source": [
    "config.keys()"
   ]
  },
  {
   "cell_type": "markdown",
   "metadata": {},
   "source": [
    "# CARE"
   ]
  },
  {
   "cell_type": "markdown",
   "metadata": {},
   "source": [
    "## Training"
   ]
  },
  {
   "cell_type": "markdown",
   "metadata": {},
   "source": [
    "### *Generate Training Data /Train Model*\n",
    "\n",
    "Somehow GPU devices are not recognized in Jupyter but in PyCharm. Hence generating data and training through PyCharm."
   ]
  },
  {
   "cell_type": "markdown",
   "metadata": {},
   "source": [
    "### *Load result*"
   ]
  },
  {
   "cell_type": "code",
   "execution_count": null,
   "metadata": {},
   "outputs": [],
   "source": [
    "metrics = "
   ]
  }
 ],
 "metadata": {
  "kernelspec": {
   "display_name": "tf_ma_j",
   "language": "python",
   "name": "tf_ma_j"
  },
  "language_info": {
   "codemirror_mode": {
    "name": "ipython",
    "version": 3
   },
   "file_extension": ".py",
   "mimetype": "text/x-python",
   "name": "python",
   "nbconvert_exporter": "python",
   "pygments_lexer": "ipython3",
   "version": "3.9.7"
  }
 },
 "nbformat": 4,
 "nbformat_minor": 2
}
