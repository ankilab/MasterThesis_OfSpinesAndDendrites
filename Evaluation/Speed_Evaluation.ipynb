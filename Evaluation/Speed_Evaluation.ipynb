{
 "cells": [
  {
   "cell_type": "markdown",
   "id": "d837eb18",
   "metadata": {},
   "source": [
    "# 1 Use existing functions"
   ]
  },
  {
   "cell_type": "code",
   "execution_count": 21,
   "id": "da571825",
   "metadata": {},
   "outputs": [
    {
     "name": "stdout",
     "output_type": "stream",
     "text": [
      "Collecting line_profiler\n",
      "  Downloading line_profiler-3.3.1-cp39-cp39-win_amd64.whl (52 kB)\n",
      "Requirement already satisfied: IPython>=0.13 in c:\\users\\jo77pihe\\.conda\\envs\\ma\\envs\\tf_ma\\lib\\site-packages (from line_profiler) (7.29.0)\n",
      "Requirement already satisfied: prompt-toolkit!=3.0.0,!=3.0.1,<3.1.0,>=2.0.0 in c:\\users\\jo77pihe\\.conda\\envs\\ma\\envs\\tf_ma\\lib\\site-packages (from IPython>=0.13->line_profiler) (3.0.8)\n",
      "Requirement already satisfied: traitlets>=4.2 in c:\\users\\jo77pihe\\.conda\\envs\\ma\\envs\\tf_ma\\lib\\site-packages (from IPython>=0.13->line_profiler) (5.0.5)\n",
      "Requirement already satisfied: decorator in c:\\users\\jo77pihe\\.conda\\envs\\ma\\envs\\tf_ma\\lib\\site-packages (from IPython>=0.13->line_profiler) (4.4.2)\n",
      "Requirement already satisfied: pygments in c:\\users\\jo77pihe\\.conda\\envs\\ma\\envs\\tf_ma\\lib\\site-packages (from IPython>=0.13->line_profiler) (2.7.1)\n",
      "Requirement already satisfied: backcall in c:\\users\\jo77pihe\\.conda\\envs\\ma\\envs\\tf_ma\\lib\\site-packages (from IPython>=0.13->line_profiler) (0.2.0)\n",
      "Requirement already satisfied: colorama in c:\\users\\jo77pihe\\.conda\\envs\\ma\\envs\\tf_ma\\lib\\site-packages (from IPython>=0.13->line_profiler) (0.4.4)\n",
      "Requirement already satisfied: setuptools>=18.5 in c:\\users\\jo77pihe\\.conda\\envs\\ma\\envs\\tf_ma\\lib\\site-packages (from IPython>=0.13->line_profiler) (59.5.0)\n",
      "Requirement already satisfied: matplotlib-inline in c:\\users\\jo77pihe\\.conda\\envs\\ma\\envs\\tf_ma\\lib\\site-packages (from IPython>=0.13->line_profiler) (0.1.2)\n",
      "Requirement already satisfied: jedi>=0.16 in c:\\users\\jo77pihe\\.conda\\envs\\ma\\envs\\tf_ma\\lib\\site-packages (from IPython>=0.13->line_profiler) (0.18.0)\n",
      "Requirement already satisfied: pickleshare in c:\\users\\jo77pihe\\.conda\\envs\\ma\\envs\\tf_ma\\lib\\site-packages (from IPython>=0.13->line_profiler) (0.7.5)\n",
      "Requirement already satisfied: parso<0.9.0,>=0.8.0 in c:\\users\\jo77pihe\\.conda\\envs\\ma\\envs\\tf_ma\\lib\\site-packages (from jedi>=0.16->IPython>=0.13->line_profiler) (0.8.0)\n",
      "Requirement already satisfied: wcwidth in c:\\users\\jo77pihe\\.conda\\envs\\ma\\envs\\tf_ma\\lib\\site-packages (from prompt-toolkit!=3.0.0,!=3.0.1,<3.1.0,>=2.0.0->IPython>=0.13->line_profiler) (0.2.5)\n",
      "Requirement already satisfied: ipython-genutils in c:\\users\\jo77pihe\\.conda\\envs\\ma\\envs\\tf_ma\\lib\\site-packages (from traitlets>=4.2->IPython>=0.13->line_profiler) (0.2.0)\n",
      "Installing collected packages: line-profiler\n",
      "Successfully installed line-profiler-3.3.1\n"
     ]
    }
   ],
   "source": [
    "!pip install line_profiler\n",
    "!pip install cupy-cuda112"
   ]
  },
  {
   "cell_type": "code",
   "execution_count": 3,
   "id": "c9f18fed",
   "metadata": {},
   "outputs": [],
   "source": [
    "%load_ext line_profiler"
   ]
  },
  {
   "cell_type": "code",
   "execution_count": 2,
   "id": "fecd7519",
   "metadata": {},
   "outputs": [],
   "source": [
    "from cupyx.profiler import benchmark\n",
    "import numpy as np\n",
    "from scipy.signal import fftconvolve, convolve\n",
    "import cupy\n",
    "from cupyx.scipy import ndimage\n",
    "import sys\n",
    "sys.path.insert(1, 'C:/Users/jo77pihe/Documents/MasterThesis_OfSpinesAndDendrites')\n",
    "import deconv.utils.c_convolve as cc"
   ]
  },
  {
   "cell_type": "code",
   "execution_count": 4,
   "id": "abc6ecff",
   "metadata": {},
   "outputs": [],
   "source": [
    "a128 = np.random.rand(10,128,128).astype(np.float32)\n",
    "b128 = np.random.rand(10,128,128).astype(np.float32)\n",
    "a256 = np.random.rand(20,256,256).astype(np.float32)\n",
    "b256 = np.random.rand(20,256,256).astype(np.float32)\n",
    "a512_1 = np.random.rand(20,512,512).astype(np.float32)\n",
    "b512_1 = np.random.rand(20,512,512).astype(np.float32)\n",
    "a512_2 = np.random.rand(40,512,512).astype(np.float32)\n",
    "b512_2 = np.random.rand(40,512,512).astype(np.float32)\n",
    "a512_3 = np.random.rand(80,512,512).astype(np.float32)\n",
    "b512_3 = np.random.rand(80,512,512).astype(np.float32)"
   ]
  },
  {
   "cell_type": "markdown",
   "id": "aeebfa7c",
   "metadata": {},
   "source": [
    "## 1.0 Numpy\n",
    "* Only supports 1D convolution"
   ]
  },
  {
   "cell_type": "markdown",
   "id": "774806f4",
   "metadata": {},
   "source": [
    "## 1.1: Scipy"
   ]
  },
  {
   "cell_type": "code",
   "execution_count": 5,
   "id": "79bc0abf",
   "metadata": {},
   "outputs": [],
   "source": [
    "def sci_conv(a, b, n = 1):\n",
    "    for _ in range(n):\n",
    "        a = convolve(a,b, mode='same')\n",
    "    return a\n",
    "\n",
    "\n",
    "def sci_fftconv(a, b, n = 1):\n",
    "    for _ in range(n):\n",
    "        a = fftconvolve(a,b, mode='same')\n",
    "    return a"
   ]
  },
  {
   "cell_type": "code",
   "execution_count": 9,
   "id": "e153aeb0",
   "metadata": {},
   "outputs": [
    {
     "name": "stdout",
     "output_type": "stream",
     "text": [
      "sci_conv            :    CPU:89179.936 us   +/-1442.306 (min:85881.600 / max:95263.300) us     GPU-0:89932.776 us   +/-4249.736 (min:73931.778 / max:110384.125) us\n",
      "sci_fftconv         :    CPU:89056.892 us   +/-1442.558 (min:84912.200 / max:92810.000) us     GPU-0:89440.856 us   +/-3596.935 (min:73424.896 / max:105223.167) us\n"
     ]
    }
   ],
   "source": [
    "con_res = np.zeros((5,12))\n",
    "con_std = np.zeros((5,12))\n",
    "n_rep = 105\n",
    "n_conv = 14\n",
    "\n",
    "x = benchmark(sci_conv, (a128,b128,n_conv), n_repeat=n_rep)\n",
    "con_res[0,0] = np.mean(x.cpu_times)\n",
    "con_res[0,1] = np.mean(x.gpu_times)\n",
    "con_std[0,0] = np.std(x.cpu_times)\n",
    "con_std[0,1] = np.std(x.gpu_times)\n",
    "x = benchmark(sci_conv, (a256,b256,n_conv), n_repeat=n_rep)\n",
    "con_res[1,0] = np.mean(x.cpu_times)\n",
    "con_res[1,1] = np.mean(x.gpu_times)\n",
    "con_std[1,0] = np.std(x.cpu_times)\n",
    "con_std[1,1] = np.std(x.gpu_times)\n",
    "x = benchmark(sci_conv, (a512_1,b512_1,n_conv), n_repeat=n_rep)\n",
    "con_res[2,0] = np.mean(x.cpu_times)\n",
    "con_res[2,1] = np.mean(x.gpu_times)\n",
    "con_std[2,0] = np.std(x.cpu_times)\n",
    "con_std[2,1] = np.std(x.gpu_times)\n",
    "x = benchmark(sci_conv, (a512_2,b512_2,n_conv), n_repeat=n_rep)\n",
    "con_res[3,0] = np.mean(x.cpu_times)\n",
    "con_res[3,1] = np.mean(x.gpu_times)\n",
    "con_std[3,0] = np.std(x.cpu_times)\n",
    "con_std[3,1] = np.std(x.gpu_times)\n",
    "x = benchmark(sci_conv, (a512_3,b512_3,n_conv), n_repeat=n_rep)\n",
    "con_res[4,0] = np.mean(x.cpu_times)\n",
    "con_res[4,1] = np.mean(x.gpu_times)\n",
    "con_std[4,0] = np.std(x.cpu_times)\n",
    "con_std[4,1] = np.std(x.gpu_times)\n",
    "\n"
   ]
  },
  {
   "cell_type": "code",
   "execution_count": null,
   "id": "7e444721",
   "metadata": {},
   "outputs": [],
   "source": [
    "x = benchmark(sci_fftconv, (a128,b128,n_conv), n_repeat=n_rep)\n",
    "con_res[0,2] = np.mean(x.cpu_times)\n",
    "con_res[0,3] = np.mean(x.gpu_times)\n",
    "con_std[0,2] = np.std(x.cpu_times)\n",
    "con_std[0,3] = np.std(x.gpu_times)\n",
    "x = benchmark(sci_fftconv, (a256,b256,n_conv), n_repeat=n_rep)\n",
    "con_res[1,2] = np.mean(x.cpu_times)\n",
    "con_res[1,3] = np.mean(x.gpu_times)\n",
    "con_std[1,2] = np.std(x.cpu_times)\n",
    "con_std[1,3] = np.std(x.gpu_times)\n",
    "x = benchmark(sci_fftconv, (a512_1,b512_1,n_conv), n_repeat=n_rep)\n",
    "con_res[2,2] = np.mean(x.cpu_times)\n",
    "con_res[2,3] = np.mean(x.gpu_times)\n",
    "con_std[2,2] = np.std(x.cpu_times)\n",
    "con_std[2,3] = np.std(x.gpu_times)\n",
    "x = benchmark(sci_fftconv, (a512_2,b512_2,n_conv), n_repeat=n_rep)\n",
    "con_res[3,2] = np.mean(x.cpu_times)\n",
    "con_res[3,3] = np.mean(x.gpu_times)\n",
    "con_std[3,2] = np.std(x.cpu_times)\n",
    "con_std[3,3] = np.std(x.gpu_times)\n",
    "x = benchmark(sci_fftconv, (a512_3,b512_3,n_conv), n_repeat=n_rep)\n",
    "con_res[4,2] = np.mean(x.cpu_times)\n",
    "con_res[4,3] = np.mean(x.gpu_times)\n",
    "con_std[4,2] = np.std(x.cpu_times)\n",
    "con_std[4,3] = np.std(x.gpu_times)"
   ]
  },
  {
   "cell_type": "code",
   "execution_count": 10,
   "id": "fa2f6a84",
   "metadata": {},
   "outputs": [
    {
     "data": {
      "text/plain": [
       "array([0.4625065, 0.4666529])"
      ]
     },
     "execution_count": 10,
     "metadata": {},
     "output_type": "execute_result"
    }
   ],
   "source": [
    "r.cpu_times"
   ]
  },
  {
   "cell_type": "markdown",
   "id": "40c0df3c",
   "metadata": {},
   "source": [
    "## 1.2: Numba\n",
    "\n",
    "* \"Numba is designed to be used with NumPy arrays and functions\" (https://numba.pydata.org/)\n",
    "* \"SciPy is already a high-performance library so in most cases I would expect numba to perform worse (or rarely: slightly better)\" (https://stackoverflow.com/questions/55317665/numba-jit-with-scipy)"
   ]
  },
  {
   "cell_type": "markdown",
   "id": "383ea77b",
   "metadata": {},
   "source": [
    "## 1.3: Numba-Scipy\n",
    "* Convolution not among supported functions (https://numba-scipy.readthedocs.io/en/latest/reference/special.html)"
   ]
  },
  {
   "cell_type": "code",
   "execution_count": null,
   "id": "a27c0b87",
   "metadata": {},
   "outputs": [],
   "source": [
    "!pip install numba-scipy"
   ]
  },
  {
   "cell_type": "markdown",
   "id": "b9901490",
   "metadata": {},
   "source": [
    "## 1.4 Cupy"
   ]
  },
  {
   "cell_type": "code",
   "execution_count": 29,
   "id": "33d14c8d",
   "metadata": {},
   "outputs": [],
   "source": [
    "def cupy_conv(a,b, n=1):\n",
    "    ac = cupy.array(a, dtype=cupy.float32)\n",
    "    bc = cupy.array(b, dtype=cupy.float32)\n",
    "    for _ in range(n):\n",
    "        a = ndimage.convolve(ac, bc, mode='constant')\n",
    "    return cupy.asnumpy(a)"
   ]
  },
  {
   "cell_type": "code",
   "execution_count": 32,
   "id": "2177902e",
   "metadata": {},
   "outputs": [
    {
     "name": "stdout",
     "output_type": "stream",
     "text": [
      "cupy_conv           :    CPU:24173928.120 us   +/-160777.839 (min:23962332.100 / max:24470096.800) us     GPU-0:24174355.859 us   +/-160776.394 (min:23962742.188 / max:24470523.438) us\n"
     ]
    }
   ],
   "source": [
    "n_rep = 3\n",
    "\n",
    "x = benchmark(sci_fftconv, (a128,b128,n_conv), n_repeat=n_rep)\n",
    "con_res[0,4] = np.mean(x.cpu_times)\n",
    "con_res[0,5] = np.mean(x.gpu_times)\n",
    "con_std[0,4] = np.std(x.cpu_times)\n",
    "con_std[0,5] = np.std(x.gpu_times)\n",
    "x = benchmark(sci_fftconv, (a256,b256,n_conv), n_repeat=n_rep)\n",
    "con_res[1,4] = np.mean(x.cpu_times)\n",
    "con_res[1,5] = np.mean(x.gpu_times)\n",
    "con_std[1,4] = np.std(x.cpu_times)\n",
    "con_std[1,5] = np.std(x.gpu_times)\n",
    "x = benchmark(sci_fftconv, (a512_1,b512_1,n_conv), n_repeat=n_rep)\n",
    "con_res[2,4] = np.mean(x.cpu_times)\n",
    "con_res[2,5] = np.mean(x.gpu_times)\n",
    "con_std[2,4] = np.std(x.cpu_times)\n",
    "con_std[2,5] = np.std(x.gpu_times)\n",
    "x = benchmark(sci_fftconv, (a512_2,b512_2,n_conv), n_repeat=n_rep)\n",
    "con_res[3,4] = np.mean(x.cpu_times)\n",
    "con_res[3,5] = np.mean(x.gpu_times)\n",
    "con_std[3,4] = np.std(x.cpu_times)\n",
    "con_std[3,5] = np.std(x.gpu_times)\n",
    "x = benchmark(sci_fftconv, (a512_3,b512_3,n_conv), n_repeat=n_rep)\n",
    "con_res[4,4] = np.mean(x.cpu_times)\n",
    "con_res[4,5] = np.mean(x.gpu_times)\n",
    "con_std[4,4] = np.std(x.cpu_times)\n",
    "con_std[4,5] = np.std(x.gpu_times)"
   ]
  },
  {
   "cell_type": "code",
   "execution_count": 35,
   "id": "3aceb8c9",
   "metadata": {},
   "outputs": [],
   "source": [
    "%lprun -f cupy_conv cupy_conv(a,b, 105)"
   ]
  },
  {
   "cell_type": "markdown",
   "id": "1d7262a4",
   "metadata": {},
   "source": [
    "Timer unit: 1e-07 s\n",
    "\n",
    "Total time: 24.0845 s\n",
    "File: C:\\Users\\jo77pihe\\AppData\\Local\\Temp/ipykernel_13704/3009679358.py\n",
    "Function: cupy_conv at line 1\n",
    "\n",
    "Line #      Hits         Time  Per Hit   % Time  Line Contents\n",
    "==============================================================\n",
    "     1                                           def cupy_conv(a,b, n=1):\n",
    "     2       106       1099.0     10.4      0.0      for _ in range(n):\n",
    "     3       105     464168.0   4420.6      0.2          a = ndimage.convolve(cupy.array(a), cupy.array(b), mode='constant')\n",
    "     4         1  240379695.0 240379695.0     99.8      return cupy.asnumpy(a)"
   ]
  },
  {
   "cell_type": "markdown",
   "id": "3fa0d01f",
   "metadata": {},
   "source": [
    "## 1.5 PyTorch"
   ]
  },
  {
   "cell_type": "code",
   "execution_count": 17,
   "id": "51ae493d",
   "metadata": {},
   "outputs": [],
   "source": [
    "import torch"
   ]
  },
  {
   "cell_type": "code",
   "execution_count": 30,
   "id": "406c8dd8",
   "metadata": {},
   "outputs": [],
   "source": [
    "def torch_conv(a,b, n=1):\n",
    "    device = torch.device(\"cuda\")\n",
    "    torch.cuda.synchronize()\n",
    "    with torch.no_grad():\n",
    "        ac = torch.tensor(a[None, None, ...], dtype=torch.float32).pin_memory().to(device)\n",
    "        bc = torch.torch.tensor(b[None,None,...], dtype=torch.float32).pin_memory().to(device)\n",
    "        conv = torch.nn.Conv3d(1, 1, a.shape, stride=1, padding=(a.shape[0]//2,a.shape[1]//2,a.shape[2]//2), padding_mode='reflect',\n",
    "                               bias=False, device=device, dtype=torch.float32)\n",
    "        for _ in range(n):\n",
    "            conv.weight = torch.nn.Parameter(bc)\n",
    "            ac = conv(ac)\n",
    "    # torch.cuda.synchronize()\n",
    "    return (ac.detach().to(torch.device('cpu'))[0,0,:,:,:]).numpy()"
   ]
  },
  {
   "cell_type": "code",
   "execution_count": 27,
   "id": "34b7898c",
   "metadata": {},
   "outputs": [
    {
     "name": "stdout",
     "output_type": "stream",
     "text": [
      "torch_conv          :    CPU:3853818.720 us   +/-63086.658 (min:3785164.900 / max:3984520.200) us     GPU-0:3853953.833 us   +/-63080.924 (min:3785316.406 / max:3984621.826) us\n"
     ]
    }
   ],
   "source": [
    "n_rep = 3\n",
    "\n",
    "x = benchmark(sci_fftconv, (a128,b128,n_conv), n_repeat=n_rep)\n",
    "con_res[0,6] = np.mean(x.cpu_times)\n",
    "con_res[0,7] = np.mean(x.gpu_times)\n",
    "con_std[0,6] = np.std(x.cpu_times)\n",
    "con_std[0,7] = np.std(x.gpu_times)\n",
    "x = benchmark(sci_fftconv, (a256,b256,n_conv), n_repeat=n_rep)\n",
    "con_res[1,6] = np.mean(x.cpu_times)\n",
    "con_res[1,7] = np.mean(x.gpu_times)\n",
    "con_std[1,6] = np.std(x.cpu_times)\n",
    "con_std[1,7] = np.std(x.gpu_times)\n",
    "x = benchmark(sci_fftconv, (a512_1,b512_1,n_conv), n_repeat=n_rep)\n",
    "con_res[2,6] = np.mean(x.cpu_times)\n",
    "con_res[2,7] = np.mean(x.gpu_times)\n",
    "con_std[2,6] = np.std(x.cpu_times)\n",
    "con_std[2,7] = np.std(x.gpu_times)\n",
    "x = benchmark(sci_fftconv, (a512_2,b512_2,n_conv), n_repeat=n_rep)\n",
    "con_res[3,6] = np.mean(x.cpu_times)\n",
    "con_res[3,7] = np.mean(x.gpu_times)\n",
    "con_std[3,6] = np.std(x.cpu_times)\n",
    "con_std[3,7] = np.std(x.gpu_times)\n",
    "x = benchmark(sci_fftconv, (a512_3,b512_3,n_conv), n_repeat=n_rep)\n",
    "con_res[4,6] = np.mean(x.cpu_times)\n",
    "con_res[4,7] = np.mean(x.gpu_times)\n",
    "con_std[4,6] = np.std(x.cpu_times)\n",
    "con_std[4,7] = np.std(x.gpu_times)"
   ]
  },
  {
   "cell_type": "code",
   "execution_count": null,
   "id": "eabb297b",
   "metadata": {},
   "outputs": [],
   "source": [
    "%lprun -f torch_conv torch_conv(a,b, 105)"
   ]
  },
  {
   "cell_type": "markdown",
   "id": "0c889203",
   "metadata": {},
   "source": [
    "Timer unit: 1e-07 s\n",
    "\n",
    "Total time: 3.72042 s\n",
    "File: C:\\Users\\jo77pihe\\AppData\\Local\\Temp/ipykernel_13704/1315201415.py\n",
    "Function: torch_conv at line 1\n",
    "\n",
    "Line #      Hits         Time  Per Hit   % Time  Line Contents\n",
    "==============================================================\n",
    "     1                                           def torch_conv(a,b, n=1):\n",
    "     2         1        183.0    183.0      0.0      device = torch.device(\"cuda\")\n",
    "     3         1       1378.0   1378.0      0.0      torch.cuda.synchronize()\n",
    "     4         1        299.0    299.0      0.0      with torch.no_grad():\n",
    "     5         1      10791.0  10791.0      0.0          ac = torch.tensor(a[None, None, ...], dtype=torch.float32).pin_memory().to(device)\n",
    "     6         1       5711.0   5711.0      0.0          bc = torch.torch.tensor(b[None,None,...], dtype=torch.float32).pin_memory().to(device)\n",
    "     7         2      11652.0   5826.0      0.0          conv = torch.nn.Conv3d(1, 1, a.shape, stride=1, padding=(a.shape[0]//2,a.shape[1]//2,a.shape[2]//2), padding_mode='reflect',\n",
    "     8         1         29.0     29.0      0.0                                 bias=False, device=device, dtype=torch.float32)\n",
    "     9         1        933.0    933.0      0.0          conv.weight = torch.nn.Parameter(bc)\n",
    "    10         1       9835.0   9835.0      0.0          ac = conv(ac)\n",
    "    11                                               # torch.cuda.synchronize()\n",
    "    12         1   37163348.0 37163348.0     99.9      return (ac.detach().to(torch.device('cpu'))[0,0,:,:,:]).numpy()"
   ]
  },
  {
   "cell_type": "markdown",
   "id": "4cf32c6f",
   "metadata": {},
   "source": [
    "# 2 Write own function and speed up"
   ]
  },
  {
   "cell_type": "markdown",
   "id": "c96dd997",
   "metadata": {},
   "source": [
    "## 2.0 Cython "
   ]
  },
  {
   "cell_type": "code",
   "execution_count": null,
   "id": "ee7865cf",
   "metadata": {},
   "outputs": [],
   "source": [
    "def cython_conv(a,b, n = 1):\n",
    "    for _ in range(n):\n",
    "        a = cc.myconvolve(a,b))\n",
    "    return a"
   ]
  },
  {
   "cell_type": "code",
   "execution_count": null,
   "id": "f6a86552",
   "metadata": {},
   "outputs": [],
   "source": [
    "n_rep = 3\n",
    "\n",
    "x = benchmark(sci_fftconv, (a128,b128,n_conv), n_repeat=n_rep)\n",
    "con_res[0,8] = np.mean(x.cpu_times)\n",
    "con_res[0,9] = np.mean(x.gpu_times)\n",
    "con_std[0,8] = np.std(x.cpu_times)\n",
    "con_std[0,9] = np.std(x.gpu_times)\n",
    "x = benchmark(sci_fftconv, (a256,b256,n_conv), n_repeat=n_rep)\n",
    "con_res[1,8] = np.mean(x.cpu_times)\n",
    "con_res[1,9] = np.mean(x.gpu_times)\n",
    "con_std[1,8] = np.std(x.cpu_times)\n",
    "con_std[1,9] = np.std(x.gpu_times)\n",
    "x = benchmark(sci_fftconv, (a512_1,b512_1,n_conv), n_repeat=n_rep)\n",
    "con_res[2,8] = np.mean(x.cpu_times)\n",
    "con_res[2,9] = np.mean(x.gpu_times)\n",
    "con_std[2,8] = np.std(x.cpu_times)\n",
    "con_std[2,9] = np.std(x.gpu_times)\n",
    "x = benchmark(sci_fftconv, (a512_2,b512_2,n_conv), n_repeat=n_rep)\n",
    "con_res[3,8] = np.mean(x.cpu_times)\n",
    "con_res[3,9] = np.mean(x.gpu_times)\n",
    "con_std[3,8] = np.std(x.cpu_times)\n",
    "con_std[3,9] = np.std(x.gpu_times)\n",
    "x = benchmark(sci_fftconv, (a512_3,b512_3,n_conv), n_repeat=n_rep)\n",
    "con_res[4,8] = np.mean(x.cpu_times)\n",
    "con_res[4,9] = np.mean(x.gpu_times)\n",
    "con_std[4,8] = np.std(x.cpu_times)\n",
    "con_std[4,9] = np.std(x.gpu_times)"
   ]
  },
  {
   "cell_type": "markdown",
   "id": "b5699c65",
   "metadata": {},
   "source": [
    "## 2.1 Numba"
   ]
  },
  {
   "cell_type": "code",
   "execution_count": null,
   "id": "0858dd1b",
   "metadata": {},
   "outputs": [],
   "source": [
    "def num_c(a, b):\n",
    "    (NAx, NAy, NAz) = a.shape\n",
    "    (NBx, NBy, NBz) = a.shape\n",
    "    Deg = NAz +NBz -1\n",
    "    C = np.zeros((NAx, NBy, Deg))\n",
    "\n",
    "    assert((NAx == NBx) and (NAy == NBy))\n",
    "\n",
    "    for n in range(0, (Deg)):\n",
    "        for m in range(0, n + 1):\n",
    "            if ((n - m) < NAz and m < NBz):\n",
    "                for i in range(0, NAx):\n",
    "                    for j in range(0, NAy):\n",
    "                        C[i, j, n] = C[i, j, n] + a[i, j, (n - m)] * b[i, j, m]\n",
    "    return C"
   ]
  },
  {
   "cell_type": "code",
   "execution_count": null,
   "id": "ce8cb164",
   "metadata": {},
   "outputs": [],
   "source": [
    "def numba_conv(a,b, n = 1):\n",
    "    for _ in range(n):\n",
    "        a = num_c(a,b)\n",
    "    return a"
   ]
  },
  {
   "cell_type": "code",
   "execution_count": null,
   "id": "7d4009fc",
   "metadata": {},
   "outputs": [],
   "source": [
    "n_rep = 3\n",
    "\n",
    "x = benchmark(sci_fftconv, (a128,b128,n_conv), n_repeat=n_rep)\n",
    "con_res[0,10] = np.mean(x.cpu_times)\n",
    "con_res[0,11] = np.mean(x.gpu_times)\n",
    "con_std[0,10] = np.std(x.cpu_times)\n",
    "con_std[0,11] = np.std(x.gpu_times)\n",
    "x = benchmark(sci_fftconv, (a256,b256,n_conv), n_repeat=n_rep)\n",
    "con_res[1,10] = np.mean(x.cpu_times)\n",
    "con_res[1,11] = np.mean(x.gpu_times)\n",
    "con_std[1,10] = np.std(x.cpu_times)\n",
    "con_std[1,11] = np.std(x.gpu_times)\n",
    "x = benchmark(sci_fftconv, (a512_1,b512_1,n_conv), n_repeat=n_rep)\n",
    "con_res[2,10] = np.mean(x.cpu_times)\n",
    "con_res[2,11] = np.mean(x.gpu_times)\n",
    "con_std[2,10] = np.std(x.cpu_times)\n",
    "con_std[2,11] = np.std(x.gpu_times)\n",
    "x = benchmark(sci_fftconv, (a512_2,b512_2,n_conv), n_repeat=n_rep)\n",
    "con_res[3,10] = np.mean(x.cpu_times)\n",
    "con_res[3,11] = np.mean(x.gpu_times)\n",
    "con_std[3,10] = np.std(x.cpu_times)\n",
    "con_std[3,11] = np.std(x.gpu_times)\n",
    "x = benchmark(sci_fftconv, (a512_3,b512_3,n_conv), n_repeat=n_rep)\n",
    "con_res[4,10] = np.mean(x.cpu_times)\n",
    "con_res[4,11] = np.mean(x.gpu_times)\n",
    "con_std[4,10] = np.std(x.cpu_times)\n",
    "con_std[4,11] = np.std(x.gpu_times)"
   ]
  }
 ],
 "metadata": {
  "kernelspec": {
   "display_name": "Python 3 (ipykernel)",
   "language": "python",
   "name": "python3"
  },
  "language_info": {
   "codemirror_mode": {
    "name": "ipython",
    "version": 3
   },
   "file_extension": ".py",
   "mimetype": "text/x-python",
   "name": "python",
   "nbconvert_exporter": "python",
   "pygments_lexer": "ipython3",
   "version": "3.9.7"
  }
 },
 "nbformat": 4,
 "nbformat_minor": 5
}
