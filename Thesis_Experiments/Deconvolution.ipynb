{
 "cells": [
  {
   "cell_type": "code",
   "execution_count": 4,
   "id": "d11938d1",
   "metadata": {},
   "outputs": [],
   "source": [
    "from pathlib import Path\n",
    "import os\n",
    "import shutil\n",
    "import numpy as np\n",
    "from numpy.random import default_rng"
   ]
  },
  {
   "cell_type": "code",
   "execution_count": null,
   "id": "52ae9dd3",
   "metadata": {},
   "outputs": [],
   "source": []
  },
  {
   "cell_type": "code",
   "execution_count": 15,
   "id": "9c482c95",
   "metadata": {},
   "outputs": [],
   "source": [
    "raw_data_path = 'D:/jo77pihe/Registered/20220203_Raw'\n",
    "data_path = 'D:/jo77pihe/Registered/20220203_AutoQuant_NotAveraged'\n",
    "train_path_d = os.path.join(data_path, 'Train_data', 'Deconved')\n",
    "test_path_d = os.path.join(data_path, 'Test_data', 'Deconved')\n",
    "train_path_r = os.path.join(data_path, 'Train_data', 'Raw')\n",
    "test_path_r = os.path.join(data_path, 'Test_data', 'Raw')"
   ]
  },
  {
   "cell_type": "code",
   "execution_count": 16,
   "id": "4268ac0a",
   "metadata": {},
   "outputs": [
    {
     "name": "stdout",
     "output_type": "stream",
     "text": [
      "[ 0  1 19  7 17 11  8 18 10  4 14  9 15  6 20 12  2 16 13  5  3]\n",
      "['Alessandro_427_ArcCreERT2_Thy1GFP_Ai9_TRAP_2019-08-31_A2.tif', 'Alessandro_427_ArcCreERT2_Thy1GFP_Ai9_TRAP_2019-08-31_A3.tif', 'Alessandro_530_ArcCreERT2_Thy1GFP_Ai9_TRAP_2019-09-16_A5.tif', 'Alessandro_512_ArcCreERT2_Thy1GFP_Ai9_TRAP_2019-08-31_A2.tif', 'Alessandro_520_ArcCreERT2_Thy1GFP_Ai9_TRAP_2019-08-31_A3.tif']\n"
     ]
    }
   ],
   "source": [
    "# Randomly select 5 images\n",
    "f = [f for f in os.listdir(data_path) if f.endswith('.tif')]\n",
    "\n",
    "rng = default_rng(5678)\n",
    "idx = rng.choice(len(f), size=len(f), replace=False)\n",
    "idx_train =idx[5:]\n",
    "idx_test = idx[0:5]\n",
    "f_test = [f[i] for i in idx_test]\n",
    "f_train = [f[i] for i in idx_train]\n",
    "print(idx)\n",
    "print(f_test)"
   ]
  },
  {
   "cell_type": "code",
   "execution_count": 17,
   "id": "6e907166",
   "metadata": {},
   "outputs": [],
   "source": [
    "Path(train_path_d).mkdir(parents=True, exist_ok=True)\n",
    "Path(test_path_d).mkdir(parents=True, exist_ok=True)\n",
    "Path(train_path_r).mkdir(parents=True, exist_ok=True)\n",
    "Path(test_path_r).mkdir(parents=True, exist_ok=True)\n",
    "\n",
    "for i in range(len(f)):\n",
    "    src_d = os.path.join(data_path, f[i])\n",
    "    src_r = os.path.join(raw_data_path, f[i])\n",
    "    if i in idx_train:\n",
    "        dst_d = train_path_d\n",
    "        dst_r = train_path_r\n",
    "    else:\n",
    "        dst_d = test_path_d\n",
    "        dst_r = test_path_r\n",
    "    shutil.copy2(src_d, dst_d)\n",
    "    shutil.copy2(src_r, dst_r)"
   ]
  },
  {
   "cell_type": "code",
   "execution_count": null,
   "id": "628469e0",
   "metadata": {},
   "outputs": [],
   "source": []
  }
 ],
 "metadata": {
  "kernelspec": {
   "display_name": "Python 3 (ipykernel)",
   "language": "python",
   "name": "python3"
  },
  "language_info": {
   "codemirror_mode": {
    "name": "ipython",
    "version": 3
   },
   "file_extension": ".py",
   "mimetype": "text/x-python",
   "name": "python",
   "nbconvert_exporter": "python",
   "pygments_lexer": "ipython3",
   "version": "3.9.7"
  }
 },
 "nbformat": 4,
 "nbformat_minor": 5
}
