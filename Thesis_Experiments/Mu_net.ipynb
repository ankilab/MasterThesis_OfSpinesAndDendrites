{
 "cells": [
  {
   "cell_type": "code",
   "execution_count": 2,
   "id": "939cb209",
   "metadata": {},
   "outputs": [
    {
     "name": "stdout",
     "output_type": "stream",
     "text": [
      "Num GPUs Available:  1\n"
     ]
    }
   ],
   "source": [
    "import sys\n",
    "sys.path.insert(1, 'C:/Users/jo77pihe/Documents/MasterThesis_OfSpinesAndDendrites')\n",
    "\n",
    "from data_augmentation import DataAugmenter, DataProvider\n",
    "from deconv import REGISTRY\n",
    "import os\n",
    "import timeit\n",
    "import numpy as np"
   ]
  },
  {
   "cell_type": "markdown",
   "id": "8fb580cf",
   "metadata": {},
   "source": [
    "## 3 Levels"
   ]
  },
  {
   "cell_type": "code",
   "execution_count": 3,
   "id": "4bb559a2",
   "metadata": {},
   "outputs": [],
   "source": [
    "res_path = 'D:/jo77pihe/Registered/20220214_Mu-Net'\n",
    "data_path = 'D:/jo77pihe/Registered/20220203_AutoQuant_NotAveraged/Train_data'\n",
    "levels =[0,1,2,3]\n",
    "z_shapes=[16,32,64]\n",
    "xy_shapes =[64,128]\n",
    "lr = [0.0001, 0.001]"
   ]
  },
  {
   "cell_type": "code",
   "execution_count": 10,
   "id": "f226e54a",
   "metadata": {},
   "outputs": [
    {
     "name": "stdout",
     "output_type": "stream",
     "text": [
      "==================================================================\n",
      "   16 raw images x    1 transformations   =    16 images\n",
      "   16 images     x   50 patches per image =   800 patches in total\n",
      "==================================================================\n",
      "Input data:\n",
      "D:/jo77pihe/Registered/20220203_AutoQuant_NotAveraged/Train_data: target='Deconved', sources=['Raw'], axes='ZYX', pattern='*.tif*'\n",
      "==================================================================\n",
      "Transformations:\n",
      "1 x Identity\n",
      "==================================================================\n",
      "Patch size:\n",
      "16 x 64 x 64\n",
      "==================================================================\n"
     ]
    },
    {
     "name": "stderr",
     "output_type": "stream",
     "text": [
      "100%|██████████████████████████████████████████████████████████████████████████████████| 16/16 [00:27<00:00,  1.72s/it]\n"
     ]
    },
    {
     "ename": "TypeError",
     "evalue": "_f() takes 0 positional arguments but 2 were given",
     "output_type": "error",
     "traceback": [
      "\u001b[1;31m---------------------------------------------------------------------------\u001b[0m",
      "\u001b[1;31mTypeError\u001b[0m                                 Traceback (most recent call last)",
      "\u001b[1;32m~\\AppData\\Local\\Temp/ipykernel_11744/33096664.py\u001b[0m in \u001b[0;36m<module>\u001b[1;34m\u001b[0m\n\u001b[0;32m     13\u001b[0m             \u001b[0margs\u001b[0m\u001b[1;33m[\u001b[0m\u001b[1;34m'epochs'\u001b[0m\u001b[1;33m]\u001b[0m\u001b[1;33m=\u001b[0m\u001b[1;36m100\u001b[0m\u001b[1;33m\u001b[0m\u001b[1;33m\u001b[0m\u001b[0m\n\u001b[0;32m     14\u001b[0m             \u001b[0margs\u001b[0m\u001b[1;33m[\u001b[0m\u001b[1;34m'result_path'\u001b[0m\u001b[1;33m]\u001b[0m \u001b[1;33m=\u001b[0m \u001b[0mos\u001b[0m\u001b[1;33m.\u001b[0m\u001b[0mpath\u001b[0m\u001b[1;33m.\u001b[0m\u001b[0mjoin\u001b[0m\u001b[1;33m(\u001b[0m\u001b[0mres_path\u001b[0m\u001b[1;33m,\u001b[0m \u001b[1;34m'_'\u001b[0m\u001b[1;33m.\u001b[0m\u001b[0mjoin\u001b[0m\u001b[1;33m(\u001b[0m\u001b[1;33m(\u001b[0m\u001b[1;34m'Trial'\u001b[0m\u001b[1;33m,\u001b[0m \u001b[0mstr\u001b[0m\u001b[1;33m(\u001b[0m\u001b[0ml\u001b[0m\u001b[1;33m)\u001b[0m\u001b[1;33m,\u001b[0m\u001b[0mstr\u001b[0m\u001b[1;33m(\u001b[0m\u001b[0mz\u001b[0m\u001b[1;33m)\u001b[0m\u001b[1;33m,\u001b[0m\u001b[0mstr\u001b[0m\u001b[1;33m(\u001b[0m\u001b[0mxy\u001b[0m\u001b[1;33m)\u001b[0m\u001b[1;33m)\u001b[0m\u001b[1;33m)\u001b[0m\u001b[1;33m)\u001b[0m\u001b[1;33m\u001b[0m\u001b[1;33m\u001b[0m\u001b[0m\n\u001b[1;32m---> 15\u001b[1;33m             data_provider = DataProvider((args['z_shape'], args['xy_shape']), args['data_path'], args['source_folder'],\n\u001b[0m\u001b[0;32m     16\u001b[0m                                           args['target_folder'], data_file = 'data_'+str(z)+'_'+str(xy)+'.h5')\n\u001b[0;32m     17\u001b[0m             \u001b[0mdeconvolver\u001b[0m \u001b[1;33m=\u001b[0m \u001b[0mREGISTRY\u001b[0m\u001b[1;33m[\u001b[0m\u001b[1;34m'mu-net'\u001b[0m\u001b[1;33m]\u001b[0m\u001b[1;33m(\u001b[0m\u001b[0margs\u001b[0m\u001b[1;33m)\u001b[0m\u001b[1;33m\u001b[0m\u001b[1;33m\u001b[0m\u001b[0m\n",
      "\u001b[1;32mC:\\Users/jo77pihe/Documents/MasterThesis_OfSpinesAndDendrites\\data_augmentation.py\u001b[0m in \u001b[0;36m__init__\u001b[1;34m(self, size, data_path, source, target, n_patches, data_file)\u001b[0m\n\u001b[0;32m    106\u001b[0m         \u001b[1;32mif\u001b[0m \u001b[1;32mnot\u001b[0m \u001b[0mos\u001b[0m\u001b[1;33m.\u001b[0m\u001b[0mpath\u001b[0m\u001b[1;33m.\u001b[0m\u001b[0misfile\u001b[0m\u001b[1;33m(\u001b[0m\u001b[0mdata_file\u001b[0m\u001b[1;33m)\u001b[0m\u001b[1;33m:\u001b[0m\u001b[1;33m\u001b[0m\u001b[1;33m\u001b[0m\u001b[0m\n\u001b[0;32m    107\u001b[0m             \u001b[0mself\u001b[0m\u001b[1;33m.\u001b[0m\u001b[0mdata_h5\u001b[0m \u001b[1;33m=\u001b[0m \u001b[0mdata_file\u001b[0m\u001b[1;33m\u001b[0m\u001b[1;33m\u001b[0m\u001b[0m\n\u001b[1;32m--> 108\u001b[1;33m             da.augment(data_path, source, target, care=True, data_dir=None,\n\u001b[0m\u001b[0;32m    109\u001b[0m                        save_h5=self.data_h5)\n\u001b[0;32m    110\u001b[0m         \u001b[1;32melse\u001b[0m\u001b[1;33m:\u001b[0m\u001b[1;33m\u001b[0m\u001b[1;33m\u001b[0m\u001b[0m\n",
      "\u001b[1;32mC:\\Users/jo77pihe/Documents/MasterThesis_OfSpinesAndDendrites\\data_augmentation.py\u001b[0m in \u001b[0;36maugment\u001b[1;34m(self, data_path, source, target, care, data_dir, save_file_name, save_h5)\u001b[0m\n\u001b[0;32m     68\u001b[0m                 \u001b[0maugmented_gt\u001b[0m \u001b[1;33m=\u001b[0m \u001b[0mnp\u001b[0m\u001b[1;33m.\u001b[0m\u001b[0mclip\u001b[0m\u001b[1;33m(\u001b[0m\u001b[0maugmented_gt\u001b[0m\u001b[1;33m,\u001b[0m \u001b[1;33m-\u001b[0m\u001b[1;36m1\u001b[0m\u001b[1;33m,\u001b[0m \u001b[1;36m1\u001b[0m\u001b[1;33m)\u001b[0m\u001b[1;33m\u001b[0m\u001b[1;33m\u001b[0m\u001b[0m\n\u001b[0;32m     69\u001b[0m \u001b[1;33m\u001b[0m\u001b[0m\n\u001b[1;32m---> 70\u001b[1;33m                 fl.save(save_h5, {'raw': np.float32(augmented_raw[:, 0, :, :, :]),\n\u001b[0m\u001b[0;32m     71\u001b[0m                                   'gt': np.float32(augmented_gt[:, 0, :, :, :])})\n\u001b[0;32m     72\u001b[0m \u001b[1;33m\u001b[0m\u001b[0m\n",
      "\u001b[1;31mTypeError\u001b[0m: _f() takes 0 positional arguments but 2 were given"
     ]
    }
   ],
   "source": [
    "for l in levels:\n",
    "    for z in z_shapes:\n",
    "        for xy in xy_shapes:\n",
    "            args={}\n",
    "            args['z_shape']=z\n",
    "            args['xy_shape'] = xy\n",
    "            args['n_levels'] = l\n",
    "            args['data_path'] = data_path\n",
    "            args['source_folder'] = 'Raw'\n",
    "            args['target_folder'] = 'Deconved'\n",
    "            args['lr'] = lr\n",
    "            args['n_patches']=100\n",
    "            args['epochs']=100\n",
    "            args['result_path'] = os.path.join(res_path, '_'.join(('Trial', str(l),str(z),str(xy))))\n",
    "            data_provider = DataProvider((args['z_shape'], args['xy_shape']), args['data_path'], args['source_folder'],\n",
    "                                          args['target_folder'], data_file = 'data_'+str(z)+'_'+str(xy)+'.h5')\n",
    "            deconvolver = REGISTRY['mu-net'](args)\n",
    "            model_dir, _ = deconvolver.train(data_provider, args['epochs'], args['batch_size'])"
   ]
  },
  {
   "cell_type": "code",
   "execution_count": null,
   "id": "991909af",
   "metadata": {},
   "outputs": [],
   "source": [
    "            # # predict image\n",
    "            test_data='D:/jo77pihe/Registered/Deconved_AutoQuant_R2/Test_Raw'\n",
    "            model_dir = 'C:/Users/jo77pihe/Documents/MasterThesis_OfSpinesAndDendrites/Mu_Net_res_3_levels100_AQ/model'\n",
    "            start = timeit.default_timer()\n",
    "            deconvolver.predict(test_data, model_dir)\n",
    "            l = timeit.default_timer() -start\n",
    "            print(l)\n",
    "            timing[0,0] = l\n",
    "            np.save('timing.npy', timing)"
   ]
  }
 ],
 "metadata": {
  "kernelspec": {
   "display_name": "Python 3 (ipykernel)",
   "language": "python",
   "name": "python3"
  },
  "language_info": {
   "codemirror_mode": {
    "name": "ipython",
    "version": 3
   },
   "file_extension": ".py",
   "mimetype": "text/x-python",
   "name": "python",
   "nbconvert_exporter": "python",
   "pygments_lexer": "ipython3",
   "version": "3.9.7"
  }
 },
 "nbformat": 4,
 "nbformat_minor": 5
}
