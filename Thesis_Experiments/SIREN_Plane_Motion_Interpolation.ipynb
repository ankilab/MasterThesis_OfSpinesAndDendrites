{
 "cells": [
  {
   "cell_type": "code",
   "execution_count": 1,
   "id": "784040e0",
   "metadata": {},
   "outputs": [],
   "source": [
    "# imports\n",
    "import sys\n",
    "sys.path.insert(1, 'C:/Users/jo77pihe/Documents/MasterThesis_OfSpinesAndDendrites')\n",
    "from imagequalitymetrics import ImageQualityMetrics\n",
    "import SIREN\n",
    "import matplotlib.pyplot as plt\n",
    "import numpy as np\n",
    "import imageio as io\n",
    "import tensorflow as tf\n",
    "import os\n",
    "from numpy.random import default_rng\n",
    "import normalize"
   ]
  },
  {
   "cell_type": "code",
   "execution_count": 2,
   "id": "4976014b",
   "metadata": {},
   "outputs": [
    {
     "data": {
      "text/plain": [
       "[PhysicalDevice(name='/physical_device:GPU:0', device_type='GPU')]"
      ]
     },
     "execution_count": 2,
     "metadata": {},
     "output_type": "execute_result"
    }
   ],
   "source": [
    "tf.config.list_physical_devices('GPU')"
   ]
  },
  {
   "cell_type": "code",
   "execution_count": 3,
   "id": "e82d8f86",
   "metadata": {},
   "outputs": [],
   "source": [
    "data_path = 'D:/jo77pihe/Registered/20220203_AutoQuant_Averaged'"
   ]
  },
  {
   "cell_type": "code",
   "execution_count": 4,
   "id": "5afa9a2a",
   "metadata": {},
   "outputs": [
    {
     "name": "stdout",
     "output_type": "stream",
     "text": [
      "[222 227  32  61  24  75 189 127  87 214 226  58 190  28  39]\n",
      "['Tim_2_NexCreERT2_2018-07-17_A2.tif', 'Tim_38_NexCreERT2_2018-08-22_D4.tif', 'Alessandro_520_ArcCreERT2_Thy1GFP_Ai9_TRAP_2019-08-31_A2.tif', 'Ghabiba_341_Thy1GFP_2019-02-18_A1.tif', 'Alessandro_516_ArcCreERT2_Thy1GFP_Ai9_TRAP_2019-08-31_A1.tif']\n",
      "['Ghabiba_347_Thy1GFP_2019-02-18_A5.tif', 'Tim_178_ArcCre_2017-08-08_A2.tif', 'Tim_117_ArcCre_2017-05-08_A9.tif', 'Ghabiba_65_Thy1eGFP_2018-02-03_A1.tif', 'Tim_25_NexCreERT2_2018-07-10_A7.tif', 'Tim_38_NexCreERT2_2018-08-22_D3.tif', 'Ghabiba_335_Thy1GFP_2019-02-18_A5.tif', 'Tim_178_ArcCre_2017-08-08_A3.tif', 'Alessandro_516_ArcCreERT2_Thy1GFP_Ai9_TRAP_2019-08-31_A5.tif', 'Alessandro_530_ArcCreERT2_Thy1GFP_Ai9_TRAP_2019-09-16_A2.tif']\n"
     ]
    }
   ],
   "source": [
    "# Randomly select 15 images\n",
    "f = [f for f in os.listdir(data_path) if f.endswith('.tif')]\n",
    "\n",
    "rng = default_rng(1234)\n",
    "idx = rng.choice(len(f), size=15, replace=False)\n",
    "idx_preproc =idx[0:5]\n",
    "idx_train = idx[5:]\n",
    "f_train = [f[i] for i in idx_train]\n",
    "f_preproc = [f[i] for i in idx_preproc]\n",
    "print(idx)\n",
    "print(f_preproc)\n",
    "print(f_train)"
   ]
  },
  {
   "cell_type": "markdown",
   "id": "f11706c2",
   "metadata": {},
   "source": [
    "## 0 Network architecture\n",
    "*Which network architecture is suitable for representing our image stack sufficiently precise?*\n",
    "* Perform grid search"
   ]
  },
  {
   "cell_type": "code",
   "execution_count": 5,
   "id": "ece78855",
   "metadata": {},
   "outputs": [],
   "source": [
    "n_layers = [1,2,3,4]\n",
    "hidden_dims = [64,128,256]\n",
    "steps = 1500\n",
    "step_to_plot = 50\n",
    "met = ImageQualityMetrics()\n",
    "normalizer = normalize.PercentileNormalizer()"
   ]
  },
  {
   "cell_type": "code",
   "execution_count": 6,
   "id": "74c0f9ce",
   "metadata": {
    "collapsed": true
   },
   "outputs": [
    {
     "name": "stdout",
     "output_type": "stream",
     "text": [
      "Epoch 1/10\n",
      "1/1 [==============================] - 2s 2s/step - loss: 0.0303\n",
      "Epoch 2/10\n",
      "1/1 [==============================] - 1s 704ms/step - loss: 0.4094\n",
      "Epoch 3/10\n",
      "1/1 [==============================] - 1s 719ms/step - loss: 0.0907\n",
      "Epoch 4/10\n",
      "1/1 [==============================] - 1s 688ms/step - loss: 0.0493\n",
      "Epoch 5/10\n",
      "1/1 [==============================] - 1s 696ms/step - loss: 0.0509\n",
      "Epoch 6/10\n",
      "1/1 [==============================] - 1s 734ms/step - loss: 0.0427\n",
      "Epoch 7/10\n",
      "1/1 [==============================] - 1s 688ms/step - loss: 0.0330\n",
      "Epoch 8/10\n",
      "1/1 [==============================] - 1s 766ms/step - loss: 0.0264\n",
      "Epoch 9/10\n",
      "1/1 [==============================] - 1s 660ms/step - loss: 0.0240\n",
      "Epoch 10/10\n",
      "1/1 [==============================] - 1s 765ms/step - loss: 0.0237\n"
     ]
    },
    {
     "data": {
      "image/png": "[encoded data removed]",
      "text/plain": [
       "<Figure size 432x288 with 1 Axes>"
      ]
     },
     "metadata": {
      "needs_background": "light"
     },
     "output_type": "display_data"
    }
   ],
   "source": [
    "import time\n",
    "i=0\n",
    "f = 128\n",
    "h = 1\n",
    "args={}\n",
    "args['hidden_layers'] = h\n",
    "args['hidden_features']=f\n",
    "plane_int = SIREN.application.InterplanePrediction(args)\n",
    "\n",
    "stack = np.asarray(io.mimread(os.path.join(data_path, f_preproc[i])), dtype=np.float32)\n",
    "gt, _ = plane_int.preprocess(stack, 1)\n",
    "plane_int.train(gt,n_steps=steps, steps_to_plot=step_to_plot, batch_size=None)\n",
    "prediction = plane_int.test(gt)"
   ]
  },
  {
   "cell_type": "code",
   "execution_count": null,
   "id": "2f0e03a1",
   "metadata": {},
   "outputs": [],
   "source": [
    "for (idx,img) in enumerate(f_preproc):\n",
    "    stack = np.asarray(io.mimread(os.path.join(data_path, img)), dtype=np.float32)\n",
    "\n",
    "    res_psnr = np.zeros((len(n_layers), len(hidden_dims)))\n",
    "    res_ssim = np.zeros((len(n_layers), len(hidden_dims)))\n",
    "    labs = []\n",
    "    for (nx, nl) in enumerate(n_layers):\n",
    "        for (hx, hd) in enumerate(hidden_dims):\n",
    "            args={}\n",
    "            args['hidden_layers'] = nl\n",
    "            args['hidden_features']=hd\n",
    "            plane_int = SIREN.application.InterplanePrediction(args)\n",
    "            X, _ = plane_int.preprocess(stack, 1)\n",
    "\n",
    "            loss = plane_int.train(X,n_steps=steps, steps_to_plot=step_to_plot, batch_size=None)\n",
    "            prediction = plane_int.test(X)\n",
    "            tif.imwrite(str(nl)+'_'+str(hd)+'_'+img, prediction)\n",
    "            \n",
    "            # Evaluation\n",
    "            stack -= stack.min()  # * 2 - 1\n",
    "            stack = stack / stack.max()\n",
    "            \n",
    "            res_psnr[nx,hx] = met.psnr(prediction, stack)\n",
    "            res_ssim[nx,hx] = met.ssim(prediction, stack)\n",
    "            np.save('res_psnr', res_psnr)\n",
    "            np.save('res_ssim', res_ssim)\n",
    "            labs.append('Layers: ' + str(nl)+', Hidden_dim: '+ str(hd))\n",
    "            print(str(nl), str(hd))"
   ]
  },
  {
   "cell_type": "code",
   "execution_count": null,
   "id": "6afc7360",
   "metadata": {},
   "outputs": [],
   "source": [
    "plt.figure()\n",
    "l = []\n",
    "s = np.arange(0, steps+2, 50)\n",
    "i = 0\n",
    "for (nx, nl) in enumerate(n_layers):\n",
    "    for (hx, hd) in enumerate(hidden_dims): \n",
    "        if res_psnr[nx,hx,5] !=0:\n",
    "            plt.plot(s, res_psnr[nx,hx,:])\n",
    "            l.append(labs[i])\n",
    "        i +=1\n",
    "        \n",
    "plt.grid()\n",
    "plt.legend(l,bbox_to_anchor=(1.1, 1.05))\n",
    "plt.xlabel('Steps')\n",
    "plt.ylabel('PSNR')"
   ]
  },
  {
   "cell_type": "code",
   "execution_count": null,
   "id": "cf5e7bdd",
   "metadata": {},
   "outputs": [],
   "source": [
    "plt.figure()\n",
    "s = np.arange(0, steps+2, 50)\n",
    "i = 0\n",
    "\n",
    "for (nx, nl) in enumerate(n_layers):\n",
    "    for (hx, hd) in enumerate(hidden_dims): \n",
    "        if res_psnr[nx,hx,5] !=0:\n",
    "            plt.plot(s, res_ssim[nx,hx,:])\n",
    "            l.append(labs[i])\n",
    "        i +=1        \n",
    "plt.grid()\n",
    "plt.legend(l, bbox_to_anchor=(1.1, 1.05))\n",
    "plt.xlabel('Steps')\n",
    "plt.ylabel('SSIM')"
   ]
  }
 ],
 "metadata": {
  "kernelspec": {
   "display_name": "Python 3 (ipykernel)",
   "language": "python",
   "name": "python3"
  },
  "language_info": {
   "codemirror_mode": {
    "name": "ipython",
    "version": 3
   },
   "file_extension": ".py",
   "mimetype": "text/x-python",
   "name": "python",
   "nbconvert_exporter": "python",
   "pygments_lexer": "ipython3",
   "version": "3.9.7"
  }
 },
 "nbformat": 4,
 "nbformat_minor": 5
}
